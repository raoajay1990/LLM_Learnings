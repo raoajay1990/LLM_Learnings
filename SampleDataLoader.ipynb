{
 "cells": [
  {
   "cell_type": "markdown",
   "id": "1b63fba2-ba12-45e2-b6f5-66d265c746b8",
   "metadata": {},
   "source": [
    "# Implementing Data Loader using Pytorch"
   ]
  },
  {
   "cell_type": "markdown",
   "id": "387769fd-a44d-488f-be2f-d0ab095e4d11",
   "metadata": {},
   "source": [
    "## Steps¶\n",
    "1) Tokenize the entire text\n",
    "2) use a sliding window to chunk the book into overlapping sequences of max_length\n",
    "3) Return the total number of rows in the dataset\n",
    "4) Return a single row"
   ]
  },
  {
   "cell_type": "code",
   "execution_count": 1,
   "id": "8ea96329-a342-41bc-8737-017df1bf8f29",
   "metadata": {},
   "outputs": [],
   "source": [
    "import torch"
   ]
  },
  {
   "cell_type": "code",
   "execution_count": 4,
   "id": "eb69e218-0a07-4806-9163-d56cba58d78b",
   "metadata": {},
   "outputs": [],
   "source": [
    "from torch.utils.data import Dataset, DataLoader\n",
    "import tiktoken"
   ]
  },
  {
   "cell_type": "code",
   "execution_count": 5,
   "id": "3ebb4b8e-ecdf-4042-9c3a-c8bc7e4b9c42",
   "metadata": {},
   "outputs": [],
   "source": [
    "class ClassDataSetV1(Dataset):\n",
    "\n",
    "    def __init__(self, text, tokenizer, max_length, stride):\n",
    "        self.input_ids =[]\n",
    "        self.target_ids =[]\n",
    "\n",
    "        tokenizer = tiktoken.get_encoding('gpt2')\n",
    "        tokens = tokenizer.encode(text)\n",
    "\n"
   ]
  },
  {
   "cell_type": "code",
   "execution_count": null,
   "id": "23999bd1-7f3c-44f4-a207-36bd1cda3c05",
   "metadata": {},
   "outputs": [],
   "source": []
  }
 ],
 "metadata": {
  "kernelspec": {
   "display_name": "Python 3 (ipykernel)",
   "language": "python",
   "name": "python3"
  },
  "language_info": {
   "codemirror_mode": {
    "name": "ipython",
    "version": 3
   },
   "file_extension": ".py",
   "mimetype": "text/x-python",
   "name": "python",
   "nbconvert_exporter": "python",
   "pygments_lexer": "ipython3",
   "version": "3.12.2"
  }
 },
 "nbformat": 4,
 "nbformat_minor": 5
}
